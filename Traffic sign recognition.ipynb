{
 "cells": [
  {
   "cell_type": "markdown",
   "id": "ad505f55",
   "metadata": {},
   "source": [
    "# Import the libraries"
   ]
  },
  {
   "cell_type": "code",
   "execution_count": 1,
   "id": "00c69286",
   "metadata": {},
   "outputs": [],
   "source": [
    "import numpy as np \n",
    "import pandas as pd \n",
    "import matplotlib.pyplot as plt\n",
    "import cv2 # Computer Vision\n",
    "import tensorflow as tf \n",
    "from PIL import Image # For reading image from folder\n",
    "import os\n",
    "os.chdir(\"D:\\\\Datascience\\\\Data science\\\\Practice\\\\Projects\\\\Traffic sign\")\n",
    "from sklearn.model_selection import train_test_split\n",
    "from keras.utils import to_categorical\n",
    "from keras.models import Sequential, load_model # Models\n",
    "from keras.layers import Conv2D, MaxPool2D, Dense, Flatten, Dropout # Layers"
   ]
  },
  {
   "cell_type": "code",
   "execution_count": 2,
   "id": "9445f8f5",
   "metadata": {},
   "outputs": [],
   "source": [
    "data=[] \n",
    "labels=[]\n",
    "classes=43\n",
    "cur_path=os.getcwd()"
   ]
  },
  {
   "cell_type": "code",
   "execution_count": 3,
   "id": "0b68dee1",
   "metadata": {},
   "outputs": [],
   "source": [
    "for i in range(classes):\n",
    "    path=os.path.join(cur_path,'Train',str(i))    \n",
    "    images=os.listdir(path)\n",
    "    for a in images:\n",
    "        try:\n",
    "            image= Image.open(path + '\\\\' + a)\n",
    "            image= image.resize((30,30))\n",
    "            image=np.array(image)\n",
    "            data.append(image)\n",
    "            labels.append(i)\n",
    "        except Exception as e:\n",
    "            print(e)"
   ]
  },
  {
   "cell_type": "code",
   "execution_count": 4,
   "id": "c58fe523",
   "metadata": {},
   "outputs": [],
   "source": [
    "data= np.array(data) # Array of images\n",
    "labels=np.array(lables) # Array of different file classes"
   ]
  },
  {
   "cell_type": "code",
   "execution_count": 5,
   "id": "3bd5ba5c",
   "metadata": {},
   "outputs": [
    {
     "name": "stdout",
     "output_type": "stream",
     "text": [
      "(39209, 30, 30, 3) (39209,)\n"
     ]
    }
   ],
   "source": [
    "print(data.shape,lables.shape)"
   ]
  },
  {
   "cell_type": "markdown",
   "id": "675fa6dc",
   "metadata": {},
   "source": [
    "### Split the training and testting data"
   ]
  },
  {
   "cell_type": "code",
   "execution_count": 6,
   "id": "cdb53877",
   "metadata": {},
   "outputs": [],
   "source": [
    "X_train,X_test,y_train,y_test=train_test_split(data,labels,test_size=0.2,random_state=0)"
   ]
  },
  {
   "cell_type": "markdown",
   "id": "74b7ee68",
   "metadata": {},
   "source": [
    "### Performing One-Hot encodind on Test data"
   ]
  },
  {
   "cell_type": "code",
   "execution_count": 7,
   "id": "84d76600",
   "metadata": {},
   "outputs": [],
   "source": [
    "# Scaling the pixel array \n",
    "X_train= X_train/255\n",
    "X_test=X_test/255\n",
    "\n",
    "y_train=to_categorical(y_train,43)\n",
    "y_test=to_categorical(y_test,43)"
   ]
  },
  {
   "cell_type": "markdown",
   "id": "fa1edb1a",
   "metadata": {},
   "source": [
    "# Modeling"
   ]
  },
  {
   "cell_type": "code",
   "execution_count": 8,
   "id": "fd114f33",
   "metadata": {},
   "outputs": [
    {
     "name": "stdout",
     "output_type": "stream",
     "text": [
      "Model: \"sequential\"\n",
      "_________________________________________________________________\n",
      " Layer (type)                Output Shape              Param #   \n",
      "=================================================================\n",
      " conv2d (Conv2D)             (None, 26, 26, 32)        2432      \n",
      "                                                                 \n",
      " conv2d_1 (Conv2D)           (None, 22, 22, 32)        25632     \n",
      "                                                                 \n",
      " max_pooling2d (MaxPooling2  (None, 11, 11, 32)        0         \n",
      " D)                                                              \n",
      "                                                                 \n",
      " dropout (Dropout)           (None, 11, 11, 32)        0         \n",
      "                                                                 \n",
      " conv2d_2 (Conv2D)           (None, 9, 9, 64)          18496     \n",
      "                                                                 \n",
      " conv2d_3 (Conv2D)           (None, 7, 7, 128)         73856     \n",
      "                                                                 \n",
      " max_pooling2d_1 (MaxPoolin  (None, 3, 3, 128)         0         \n",
      " g2D)                                                            \n",
      "                                                                 \n",
      " dropout_1 (Dropout)         (None, 3, 3, 128)         0         \n",
      "                                                                 \n",
      " flatten (Flatten)           (None, 1152)              0         \n",
      "                                                                 \n",
      " dense (Dense)               (None, 512)               590336    \n",
      "                                                                 \n",
      " dropout_2 (Dropout)         (None, 512)               0         \n",
      "                                                                 \n",
      " dense_1 (Dense)             (None, 43)                22059     \n",
      "                                                                 \n",
      "=================================================================\n",
      "Total params: 732811 (2.80 MB)\n",
      "Trainable params: 732811 (2.80 MB)\n",
      "Non-trainable params: 0 (0.00 Byte)\n",
      "_________________________________________________________________\n"
     ]
    }
   ],
   "source": [
    "model=Sequential()\n",
    "\n",
    "# CNN layers --- Filtering\n",
    "model.add(Conv2D(filters=32,kernel_size=5,activation='relu',input_shape=X_train.shape[1:]))\n",
    "model.add(Conv2D(filters=32,kernel_size=5,activation='relu'))\n",
    "\n",
    "# Maxpooling\n",
    "model.add(MaxPool2D(pool_size=2,strides=2))\n",
    "model.add(Dropout(rate=0.25))\n",
    "\n",
    "# Filtering\n",
    "model.add(Conv2D(filters=64,kernel_size=3,activation='relu'))\n",
    "model.add(Conv2D(filters=128,kernel_size=3,activation='relu'))\n",
    "\n",
    "# Maxpooling\n",
    "model.add(MaxPool2D(pool_size=2,strides=2))\n",
    "model.add(Dropout(rate=0.25))\n",
    "\n",
    "# Flattening\n",
    "model.add(Flatten())\n",
    "\n",
    "# Eatablishing Full Connection\n",
    "model.add(Dense(512,activation='relu'))\n",
    "model.add(Dropout(rate=0.25))\n",
    "\n",
    "# Output layer\n",
    "model.add(Dense(43,activation='softmax'))\n",
    "\n",
    "# Model summury\n",
    "model.summary()"
   ]
  },
  {
   "cell_type": "code",
   "execution_count": 9,
   "id": "5db011e8",
   "metadata": {},
   "outputs": [],
   "source": [
    "# Compilation of the Model\n",
    "model.compile(optimizer='adam',metrics=['accuracy'],loss='categorical_crossentropy')"
   ]
  },
  {
   "cell_type": "code",
   "execution_count": 10,
   "id": "a1ac6c8a",
   "metadata": {
    "scrolled": true
   },
   "outputs": [
    {
     "name": "stdout",
     "output_type": "stream",
     "text": [
      "Epoch 1/25\n",
      "981/981 [==============================] - 111s 112ms/step - loss: 0.8436 - accuracy: 0.7630 - val_loss: 0.1028 - val_accuracy: 0.9727\n",
      "Epoch 2/25\n",
      "981/981 [==============================] - 108s 110ms/step - loss: 0.1234 - accuracy: 0.9627 - val_loss: 0.0684 - val_accuracy: 0.9801\n",
      "Epoch 3/25\n",
      "981/981 [==============================] - 108s 110ms/step - loss: 0.0764 - accuracy: 0.9762 - val_loss: 0.0392 - val_accuracy: 0.9888\n",
      "Epoch 4/25\n",
      "981/981 [==============================] - 108s 111ms/step - loss: 0.0628 - accuracy: 0.9809 - val_loss: 0.0434 - val_accuracy: 0.9889\n",
      "Epoch 5/25\n",
      "981/981 [==============================] - 108s 110ms/step - loss: 0.0549 - accuracy: 0.9830 - val_loss: 0.0289 - val_accuracy: 0.9930\n",
      "Epoch 6/25\n",
      "981/981 [==============================] - 108s 110ms/step - loss: 0.0518 - accuracy: 0.9839 - val_loss: 0.0278 - val_accuracy: 0.9938\n",
      "Epoch 7/25\n",
      "981/981 [==============================] - 108s 110ms/step - loss: 0.0383 - accuracy: 0.9884 - val_loss: 0.0286 - val_accuracy: 0.9918\n",
      "Epoch 8/25\n",
      "981/981 [==============================] - 108s 110ms/step - loss: 0.0316 - accuracy: 0.9902 - val_loss: 0.0371 - val_accuracy: 0.9893\n",
      "Epoch 9/25\n",
      "981/981 [==============================] - 107s 110ms/step - loss: 0.0413 - accuracy: 0.9875 - val_loss: 0.0234 - val_accuracy: 0.9953\n",
      "Epoch 10/25\n",
      "981/981 [==============================] - 109s 111ms/step - loss: 0.0310 - accuracy: 0.9901 - val_loss: 0.0214 - val_accuracy: 0.9949\n",
      "Epoch 11/25\n",
      "981/981 [==============================] - 110s 112ms/step - loss: 0.0351 - accuracy: 0.9895 - val_loss: 0.0298 - val_accuracy: 0.9931\n",
      "Epoch 12/25\n",
      "981/981 [==============================] - 110s 112ms/step - loss: 0.0310 - accuracy: 0.9918 - val_loss: 0.0190 - val_accuracy: 0.9960\n",
      "Epoch 13/25\n",
      "981/981 [==============================] - 109s 112ms/step - loss: 0.0289 - accuracy: 0.9918 - val_loss: 0.0264 - val_accuracy: 0.9945\n",
      "Epoch 14/25\n",
      "981/981 [==============================] - 110s 112ms/step - loss: 0.0330 - accuracy: 0.9904 - val_loss: 0.0214 - val_accuracy: 0.9955\n",
      "Epoch 15/25\n",
      "981/981 [==============================] - 110s 112ms/step - loss: 0.0322 - accuracy: 0.9914 - val_loss: 0.0205 - val_accuracy: 0.9958\n",
      "Epoch 16/25\n",
      "981/981 [==============================] - 110s 112ms/step - loss: 0.0316 - accuracy: 0.9910 - val_loss: 0.0225 - val_accuracy: 0.9944\n",
      "Epoch 17/25\n",
      "981/981 [==============================] - 110s 112ms/step - loss: 0.0275 - accuracy: 0.9926 - val_loss: 0.0195 - val_accuracy: 0.9963\n",
      "Epoch 18/25\n",
      "981/981 [==============================] - 109s 111ms/step - loss: 0.0242 - accuracy: 0.9933 - val_loss: 0.0237 - val_accuracy: 0.9967\n",
      "Epoch 19/25\n",
      "981/981 [==============================] - 109s 111ms/step - loss: 0.0310 - accuracy: 0.9924 - val_loss: 0.0285 - val_accuracy: 0.9954\n",
      "Epoch 20/25\n",
      "981/981 [==============================] - 109s 111ms/step - loss: 0.0327 - accuracy: 0.9922 - val_loss: 0.0281 - val_accuracy: 0.9948\n",
      "Epoch 21/25\n",
      "981/981 [==============================] - 111s 113ms/step - loss: 0.0363 - accuracy: 0.9910 - val_loss: 0.0285 - val_accuracy: 0.9952\n",
      "Epoch 22/25\n",
      "981/981 [==============================] - 109s 111ms/step - loss: 0.0240 - accuracy: 0.9939 - val_loss: 0.0337 - val_accuracy: 0.9950\n",
      "Epoch 23/25\n",
      "981/981 [==============================] - 109s 111ms/step - loss: 0.0267 - accuracy: 0.9938 - val_loss: 0.0314 - val_accuracy: 0.9946\n",
      "Epoch 24/25\n",
      "981/981 [==============================] - 111s 113ms/step - loss: 0.0279 - accuracy: 0.9934 - val_loss: 0.0244 - val_accuracy: 0.9943\n",
      "Epoch 25/25\n",
      "981/981 [==============================] - 110s 112ms/step - loss: 0.0366 - accuracy: 0.9913 - val_loss: 0.0517 - val_accuracy: 0.9899\n"
     ]
    }
   ],
   "source": [
    "# Fit on train data\n",
    "pred=model.fit(X_train,y_train,validation_data=(X_test,y_test),epochs=25)"
   ]
  },
  {
   "cell_type": "code",
   "execution_count": 11,
   "id": "bfec1e9a",
   "metadata": {},
   "outputs": [
    {
     "data": {
      "image/png": "[encoded data removed]",
      "text/plain": [
       "<Figure size 640x480 with 1 Axes>"
      ]
     },
     "metadata": {},
     "output_type": "display_data"
    }
   ],
   "source": [
    "# Accuracy of model\n",
    "plt.plot(pred.history['accuracy'],label='Train Accuracy')\n",
    "plt.plot(pred.history['val_accuracy'],label='Overall Accuracy')\n",
    "plt.title(\"Accuracy Score\")\n",
    "plt.xlabel(\"Epochs\")\n",
    "plt.ylabel(\"Accuracy\")\n",
    "plt.legend()\n",
    "plt.show()"
   ]
  },
  {
   "cell_type": "code",
   "execution_count": 12,
   "id": "fa5b5665",
   "metadata": {},
   "outputs": [
    {
     "data": {
      "image/png": "[encoded data removed]",
      "text/plain": [
       "<Figure size 640x480 with 1 Axes>"
      ]
     },
     "metadata": {},
     "output_type": "display_data"
    }
   ],
   "source": [
    "# Loss of model\n",
    "plt.plot(pred.history['loss'],label='Train Error')\n",
    "plt.plot(pred.history['loss'],label='Overall Accuracy')\n",
    "plt.title(\"Error Score\")\n",
    "plt.xlabel(\"Epochs\")\n",
    "plt.ylabel(\"Error\")\n",
    "plt.legend()\n",
    "plt.show()"
   ]
  },
  {
   "cell_type": "code",
   "execution_count": 19,
   "id": "402ce562",
   "metadata": {},
   "outputs": [],
   "source": [
    "def testing(testcsv):\n",
    "    y_test=pd.read_csv(testcsv)\n",
    "    lebel= y_test['ClassId']\n",
    "    img=y_test['Path']\n",
    "    data=[]\n",
    "    for i in img:\n",
    "        image=Image.open(i)\n",
    "        image=image.resize((30,30))\n",
    "        data.append(np.array(image))\n",
    "    X_test=np.array(data)\n",
    "    return X_test,lebel"
   ]
  },
  {
   "cell_type": "code",
   "execution_count": 20,
   "id": "67c08d6a",
   "metadata": {},
   "outputs": [],
   "source": [
    "X_test,lebel=testing(\"Test.csv\")"
   ]
  },
  {
   "cell_type": "code",
   "execution_count": 36,
   "id": "1d718f70",
   "metadata": {},
   "outputs": [
    {
     "name": "stdout",
     "output_type": "stream",
     "text": [
      "395/395 [==============================] - 6s 15ms/step\n"
     ]
    },
    {
     "data": {
      "text/plain": [
       "array([16,  1, 38, ..., 41,  7, 10], dtype=int64)"
      ]
     },
     "execution_count": 36,
     "metadata": {},
     "output_type": "execute_result"
    }
   ],
   "source": [
    "# predict on test data\n",
    "y_pred=np.argmax(model.predict(X_test),axis=1)\n",
    "y_pred"
   ]
  },
  {
   "cell_type": "code",
   "execution_count": 35,
   "id": "c70734a0",
   "metadata": {},
   "outputs": [
    {
     "name": "stdout",
     "output_type": "stream",
     "text": [
      "Test Accuracy: 0.9501979414093429\n"
     ]
    }
   ],
   "source": [
    "from sklearn.metrics import accuracy_score\n",
    "print(\"Test Accuracy:\",accuracy_score(lebel,y_pred))"
   ]
  },
  {
   "cell_type": "code",
   "execution_count": 38,
   "id": "83fd1b64",
   "metadata": {},
   "outputs": [],
   "source": [
    "# Save the model\n",
    "model.save(\"GTS.keras\")"
   ]
  },
  {
   "cell_type": "code",
   "execution_count": 8,
   "id": "9373532d",
   "metadata": {},
   "outputs": [],
   "source": [
    "import os\n",
    "os.chdir(\"D:\\\\Datascience\\\\Data science\\\\Practice\\\\Projects\\\\Traffic sign\")\n",
    "from keras.models import load_model\n",
    "model=load_model('GTS.keras')"
   ]
  },
  {
   "cell_type": "code",
   "execution_count": 9,
   "id": "2afabf0b",
   "metadata": {},
   "outputs": [],
   "source": [
    "# Classes of trafic signs\n",
    "classes = { 0:'Speed limit (20km/h)',\n",
    "            1:'Speed limit (30km/h)', \n",
    "            2:'Speed limit (50km/h)', \n",
    "            3:'Speed limit (60km/h)', \n",
    "            4:'Speed limit (70km/h)', \n",
    "            5:'Speed limit (80km/h)', \n",
    "            6:'End of speed limit (80km/h)', \n",
    "            7:'Speed limit (100km/h)', \n",
    "            8:'Speed limit (120km/h)', \n",
    "            9:'No passing', \n",
    "            10:'No passing veh over 3.5 tons', \n",
    "            11:'Right-of-way at intersection', \n",
    "            12:'Priority road', \n",
    "            13:'Yield', \n",
    "            14:'Stop', \n",
    "            15:'No vehicles', \n",
    "            16:'Veh > 3.5 tons prohibited', \n",
    "            17:'No entry', \n",
    "            18:'General caution', \n",
    "            19:'Dangerous curve left', \n",
    "            20:'Dangerous curve right', \n",
    "            21:'Double curve', \n",
    "            22:'Bumpy road', \n",
    "            23:'Slippery road', \n",
    "            24:'Road narrows on the right', \n",
    "            25:'Road work', \n",
    "            26:'Traffic signals', \n",
    "            27:'Pedestrians', \n",
    "            28:'Children crossing', \n",
    "            29:'Bicycles crossing', \n",
    "            30:'Beware of ice/snow',\n",
    "            31:'Wild animals crossing', \n",
    "            32:'End speed + passing limits', \n",
    "            33:'Turn right ahead', \n",
    "            34:'Turn left ahead', \n",
    "            35:'Ahead only', \n",
    "            36:'Go straight or right', \n",
    "            37:'Go straight or left', \n",
    "            38:'Keep right', \n",
    "            39:'Keep left', \n",
    "            40:'Roundabout mandatory', \n",
    "            41:'End of no passing', \n",
    "            42:'End no passing veh > 3.5 tons' }"
   ]
  },
  {
   "cell_type": "code",
   "execution_count": 13,
   "id": "7bd7904a",
   "metadata": {},
   "outputs": [],
   "source": [
    "from PIL import Image\n",
    "import numpy as np\n",
    "import matplotlib.pyplot as plt\n",
    "def input_data(img):\n",
    "    data=[]\n",
    "    image=Image.open(img)\n",
    "    image=image.resize((30,30))\n",
    "    data.append(np.array(image))\n",
    "    X_test=np.array(data)\n",
    "    y_pred=np.argmax(model.predict(X_test),axis=1)\n",
    "    return image,y_pred"
   ]
  },
  {
   "cell_type": "code",
   "execution_count": 14,
   "id": "2d3b538d",
   "metadata": {},
   "outputs": [
    {
     "name": "stdout",
     "output_type": "stream",
     "text": [
      "1/1 [==============================] - 0s 41ms/step\n",
      "1/1 [==============================] - 0s 40ms/step\n",
      "[[0. 0. 0. 0. 0. 0. 0. 0. 0. 0. 0. 0. 0. 0. 0. 0. 0. 0. 0. 0. 0. 0. 1. 0.\n",
      "  0. 0. 0. 0. 0. 0. 0. 0. 0. 0. 0. 0. 0. 0. 0. 0. 0. 0. 0.]]\n",
      "Predicted traffic sign is: Bumpy road\n"
     ]
    },
    {
     "data": {
      "image/png": "[encoded data removed]",
      "text/plain": [
       "<Figure size 640x480 with 1 Axes>"
      ]
     },
     "metadata": {},
     "output_type": "display_data"
    }
   ],
   "source": [
    "plot,prediction=input_data('Test\\\\00500.png')\n",
    "s=[str(i) for i in prediction]\n",
    "a=int(''.join(s))\n",
    "print(\"Predicted traffic sign is:\",classes.get(a))\n",
    "plt.imshow(plot)\n",
    "plt.show()"
   ]
  }
 ],
 "metadata": {
  "kernelspec": {
   "display_name": "Python 3 (ipykernel)",
   "language": "python",
   "name": "python3"
  },
  "language_info": {
   "codemirror_mode": {
    "name": "ipython",
    "version": 3
   },
   "file_extension": ".py",
   "mimetype": "text/x-python",
   "name": "python",
   "nbconvert_exporter": "python",
   "pygments_lexer": "ipython3",
   "version": "3.11.4"
  }
 },
 "nbformat": 4,
 "nbformat_minor": 5
}
